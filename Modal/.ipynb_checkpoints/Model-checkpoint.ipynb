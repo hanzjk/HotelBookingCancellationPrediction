{
 "cells": [
  {
   "cell_type": "code",
   "execution_count": 1,
   "id": "272f8a92",
   "metadata": {
    "id": "272f8a92"
   },
   "outputs": [],
   "source": [
    "import pandas as pd\n",
    "import numpy as np"
   ]
  },
  {
   "cell_type": "code",
   "execution_count": 2,
   "id": "9a103af6",
   "metadata": {
    "colab": {
     "base_uri": "https://localhost:8080/"
    },
    "id": "9a103af6",
    "outputId": "736b2444-39d7-4b02-f633-44a9a7c5ae78",
    "scrolled": true
   },
   "outputs": [
    {
     "data": {
      "text/plain": [
       "(118985, 51)"
      ]
     },
     "execution_count": 2,
     "metadata": {},
     "output_type": "execute_result"
    }
   ],
   "source": [
    "df = pd.read_csv('hotel_cleaned_data.csv')\n",
    "df.head()\n",
    "df.shape"
   ]
  },
  {
   "cell_type": "code",
   "execution_count": 3,
   "id": "yWwY0avsrL79",
   "metadata": {
    "colab": {
     "base_uri": "https://localhost:8080/"
    },
    "id": "yWwY0avsrL79",
    "outputId": "b1226d88-d1d1-4d41-85cc-fd2256d90246"
   },
   "outputs": [
    {
     "data": {
      "text/plain": [
       "(59492, 51)"
      ]
     },
     "execution_count": 3,
     "metadata": {},
     "output_type": "execute_result"
    }
   ],
   "source": [
    "df1 = df.sample(frac=0.5)\n",
    "df1.shape"
   ]
  },
  {
   "cell_type": "code",
   "execution_count": 4,
   "id": "DGZ5pxHFsF50",
   "metadata": {
    "colab": {
     "base_uri": "https://localhost:8080/"
    },
    "id": "DGZ5pxHFsF50",
    "outputId": "8016a683-047c-40e4-db28-f9a9a4c6adb7"
   },
   "outputs": [
    {
     "data": {
      "text/plain": [
       "0    0.629043\n",
       "1    0.370957\n",
       "Name: is_canceled, dtype: float64"
      ]
     },
     "execution_count": 4,
     "metadata": {},
     "output_type": "execute_result"
    }
   ],
   "source": [
    "df1['is_canceled'].value_counts(normalize=True)\n"
   ]
  },
  {
   "cell_type": "code",
   "execution_count": 5,
   "id": "Rz9ZzpguspHr",
   "metadata": {
    "colab": {
     "base_uri": "https://localhost:8080/",
     "height": 285
    },
    "id": "Rz9ZzpguspHr",
    "outputId": "ea10cec5-fd43-4894-a749-c634f8a15ea6"
   },
   "outputs": [
    {
     "data": {
      "text/html": [
       "<div>\n",
       "<style scoped>\n",
       "    .dataframe tbody tr th:only-of-type {\n",
       "        vertical-align: middle;\n",
       "    }\n",
       "\n",
       "    .dataframe tbody tr th {\n",
       "        vertical-align: top;\n",
       "    }\n",
       "\n",
       "    .dataframe thead th {\n",
       "        text-align: right;\n",
       "    }\n",
       "</style>\n",
       "<table border=\"1\" class=\"dataframe\">\n",
       "  <thead>\n",
       "    <tr style=\"text-align: right;\">\n",
       "      <th></th>\n",
       "      <th>is_canceled</th>\n",
       "      <th>lead_time</th>\n",
       "      <th>arrival_date_day_of_month</th>\n",
       "      <th>previous_cancellations</th>\n",
       "      <th>booking_changes</th>\n",
       "      <th>adr</th>\n",
       "      <th>required_car_parking_spaces</th>\n",
       "      <th>total_of_special_requests</th>\n",
       "      <th>total_stays</th>\n",
       "      <th>guests</th>\n",
       "      <th>...</th>\n",
       "      <th>reserved_room_type_G</th>\n",
       "      <th>reserved_room_type_H</th>\n",
       "      <th>reserved_room_type_L</th>\n",
       "      <th>deposit_type_No Deposit</th>\n",
       "      <th>deposit_type_Non Refund</th>\n",
       "      <th>deposit_type_Refundable</th>\n",
       "      <th>customer_type_Contract</th>\n",
       "      <th>customer_type_Group</th>\n",
       "      <th>customer_type_Transient</th>\n",
       "      <th>customer_type_Transient-Party</th>\n",
       "    </tr>\n",
       "  </thead>\n",
       "  <tbody>\n",
       "    <tr>\n",
       "      <th>59561</th>\n",
       "      <td>1</td>\n",
       "      <td>244</td>\n",
       "      <td>30</td>\n",
       "      <td>0</td>\n",
       "      <td>0</td>\n",
       "      <td>85.85</td>\n",
       "      <td>0</td>\n",
       "      <td>0</td>\n",
       "      <td>5</td>\n",
       "      <td>2.0</td>\n",
       "      <td>...</td>\n",
       "      <td>0</td>\n",
       "      <td>0</td>\n",
       "      <td>0</td>\n",
       "      <td>1</td>\n",
       "      <td>0</td>\n",
       "      <td>0</td>\n",
       "      <td>0</td>\n",
       "      <td>0</td>\n",
       "      <td>1</td>\n",
       "      <td>0</td>\n",
       "    </tr>\n",
       "    <tr>\n",
       "      <th>18065</th>\n",
       "      <td>0</td>\n",
       "      <td>17</td>\n",
       "      <td>29</td>\n",
       "      <td>0</td>\n",
       "      <td>0</td>\n",
       "      <td>72.75</td>\n",
       "      <td>0</td>\n",
       "      <td>1</td>\n",
       "      <td>4</td>\n",
       "      <td>2.0</td>\n",
       "      <td>...</td>\n",
       "      <td>0</td>\n",
       "      <td>0</td>\n",
       "      <td>0</td>\n",
       "      <td>1</td>\n",
       "      <td>0</td>\n",
       "      <td>0</td>\n",
       "      <td>0</td>\n",
       "      <td>0</td>\n",
       "      <td>1</td>\n",
       "      <td>0</td>\n",
       "    </tr>\n",
       "    <tr>\n",
       "      <th>91312</th>\n",
       "      <td>0</td>\n",
       "      <td>165</td>\n",
       "      <td>20</td>\n",
       "      <td>0</td>\n",
       "      <td>0</td>\n",
       "      <td>95.40</td>\n",
       "      <td>0</td>\n",
       "      <td>1</td>\n",
       "      <td>3</td>\n",
       "      <td>1.0</td>\n",
       "      <td>...</td>\n",
       "      <td>0</td>\n",
       "      <td>0</td>\n",
       "      <td>0</td>\n",
       "      <td>1</td>\n",
       "      <td>0</td>\n",
       "      <td>0</td>\n",
       "      <td>0</td>\n",
       "      <td>0</td>\n",
       "      <td>0</td>\n",
       "      <td>1</td>\n",
       "    </tr>\n",
       "    <tr>\n",
       "      <th>7506</th>\n",
       "      <td>1</td>\n",
       "      <td>69</td>\n",
       "      <td>13</td>\n",
       "      <td>0</td>\n",
       "      <td>0</td>\n",
       "      <td>209.00</td>\n",
       "      <td>0</td>\n",
       "      <td>2</td>\n",
       "      <td>2</td>\n",
       "      <td>2.0</td>\n",
       "      <td>...</td>\n",
       "      <td>0</td>\n",
       "      <td>0</td>\n",
       "      <td>0</td>\n",
       "      <td>1</td>\n",
       "      <td>0</td>\n",
       "      <td>0</td>\n",
       "      <td>0</td>\n",
       "      <td>0</td>\n",
       "      <td>0</td>\n",
       "      <td>1</td>\n",
       "    </tr>\n",
       "    <tr>\n",
       "      <th>46535</th>\n",
       "      <td>0</td>\n",
       "      <td>12</td>\n",
       "      <td>8</td>\n",
       "      <td>0</td>\n",
       "      <td>0</td>\n",
       "      <td>87.00</td>\n",
       "      <td>0</td>\n",
       "      <td>1</td>\n",
       "      <td>3</td>\n",
       "      <td>2.0</td>\n",
       "      <td>...</td>\n",
       "      <td>0</td>\n",
       "      <td>0</td>\n",
       "      <td>0</td>\n",
       "      <td>1</td>\n",
       "      <td>0</td>\n",
       "      <td>0</td>\n",
       "      <td>0</td>\n",
       "      <td>0</td>\n",
       "      <td>1</td>\n",
       "      <td>0</td>\n",
       "    </tr>\n",
       "  </tbody>\n",
       "</table>\n",
       "<p>5 rows × 51 columns</p>\n",
       "</div>"
      ],
      "text/plain": [
       "       is_canceled  lead_time  arrival_date_day_of_month  \\\n",
       "59561            1        244                         30   \n",
       "18065            0         17                         29   \n",
       "91312            0        165                         20   \n",
       "7506             1         69                         13   \n",
       "46535            0         12                          8   \n",
       "\n",
       "       previous_cancellations  booking_changes     adr  \\\n",
       "59561                       0                0   85.85   \n",
       "18065                       0                0   72.75   \n",
       "91312                       0                0   95.40   \n",
       "7506                        0                0  209.00   \n",
       "46535                       0                0   87.00   \n",
       "\n",
       "       required_car_parking_spaces  total_of_special_requests  total_stays  \\\n",
       "59561                            0                          0            5   \n",
       "18065                            0                          1            4   \n",
       "91312                            0                          1            3   \n",
       "7506                             0                          2            2   \n",
       "46535                            0                          1            3   \n",
       "\n",
       "       guests  ...  reserved_room_type_G  reserved_room_type_H  \\\n",
       "59561     2.0  ...                     0                     0   \n",
       "18065     2.0  ...                     0                     0   \n",
       "91312     1.0  ...                     0                     0   \n",
       "7506      2.0  ...                     0                     0   \n",
       "46535     2.0  ...                     0                     0   \n",
       "\n",
       "       reserved_room_type_L  deposit_type_No Deposit  deposit_type_Non Refund  \\\n",
       "59561                     0                        1                        0   \n",
       "18065                     0                        1                        0   \n",
       "91312                     0                        1                        0   \n",
       "7506                      0                        1                        0   \n",
       "46535                     0                        1                        0   \n",
       "\n",
       "       deposit_type_Refundable  customer_type_Contract  customer_type_Group  \\\n",
       "59561                        0                       0                    0   \n",
       "18065                        0                       0                    0   \n",
       "91312                        0                       0                    0   \n",
       "7506                         0                       0                    0   \n",
       "46535                        0                       0                    0   \n",
       "\n",
       "       customer_type_Transient  customer_type_Transient-Party  \n",
       "59561                        1                              0  \n",
       "18065                        1                              0  \n",
       "91312                        0                              1  \n",
       "7506                         0                              1  \n",
       "46535                        1                              0  \n",
       "\n",
       "[5 rows x 51 columns]"
      ]
     },
     "execution_count": 5,
     "metadata": {},
     "output_type": "execute_result"
    }
   ],
   "source": [
    "df1.head()"
   ]
  },
  {
   "cell_type": "markdown",
   "id": "87d67cbb",
   "metadata": {
    "id": "87d67cbb"
   },
   "source": [
    "# Model Building"
   ]
  },
  {
   "cell_type": "code",
   "execution_count": 6,
   "id": "ed513156",
   "metadata": {
    "id": "ed513156"
   },
   "outputs": [],
   "source": [
    "X = df1.drop(['is_canceled'], axis = 1)\n",
    "y = df1['is_canceled']"
   ]
  },
  {
   "cell_type": "code",
   "execution_count": 7,
   "id": "GV_wm7BAtyHH",
   "metadata": {
    "id": "GV_wm7BAtyHH"
   },
   "outputs": [],
   "source": [
    "from imblearn.over_sampling import SMOTE\n",
    "sm = SMOTE(random_state=42)\n",
    "X, y = sm.fit_resample(X, y)"
   ]
  },
  {
   "cell_type": "code",
   "execution_count": 8,
   "id": "0qZOZ0JluNBW",
   "metadata": {
    "colab": {
     "base_uri": "https://localhost:8080/"
    },
    "id": "0qZOZ0JluNBW",
    "outputId": "e7cb2e1e-d6f1-4d98-cff7-e4872de80b6c"
   },
   "outputs": [
    {
     "data": {
      "text/plain": [
       "1    0.5\n",
       "0    0.5\n",
       "Name: is_canceled, dtype: float64"
      ]
     },
     "execution_count": 8,
     "metadata": {},
     "output_type": "execute_result"
    }
   ],
   "source": [
    "y.value_counts(normalize=True)\n"
   ]
  },
  {
   "cell_type": "code",
   "execution_count": 9,
   "id": "2b7ead8b",
   "metadata": {
    "id": "2b7ead8b"
   },
   "outputs": [],
   "source": [
    "#Train and test split data\n",
    "from sklearn.model_selection import train_test_split\n",
    "X_train,X_test,y_train,y_test = train_test_split(X,y,random_state = 42,stratify = y,test_size = 0.30)"
   ]
  },
  {
   "cell_type": "code",
   "execution_count": 10,
   "id": "50-TPyGJuUFo",
   "metadata": {
    "colab": {
     "base_uri": "https://localhost:8080/"
    },
    "id": "50-TPyGJuUFo",
    "outputId": "e22bd8a2-1883-42fb-bd46-ed3a792f9912"
   },
   "outputs": [
    {
     "data": {
      "text/plain": [
       "0    0.5\n",
       "1    0.5\n",
       "Name: is_canceled, dtype: float64"
      ]
     },
     "execution_count": 10,
     "metadata": {},
     "output_type": "execute_result"
    }
   ],
   "source": [
    "y_test.value_counts(normalize=True)\n"
   ]
  },
  {
   "cell_type": "markdown",
   "id": "e6190633",
   "metadata": {
    "id": "e6190633"
   },
   "source": [
    "### Logistic Regression"
   ]
  },
  {
   "cell_type": "code",
   "execution_count": 11,
   "id": "f1ed89af",
   "metadata": {
    "colab": {
     "base_uri": "https://localhost:8080/"
    },
    "id": "f1ed89af",
    "outputId": "9d6853e1-501a-425a-a075-1c708041d655"
   },
   "outputs": [
    {
     "data": {
      "text/plain": [
       "LogisticRegression(max_iter=5000)"
      ]
     },
     "execution_count": 11,
     "metadata": {},
     "output_type": "execute_result"
    }
   ],
   "source": [
    "from sklearn.linear_model import LogisticRegression\n",
    "lreg = LogisticRegression(solver='lbfgs', max_iter=5000)\n",
    "lreg.fit(X_train,y_train)"
   ]
  },
  {
   "cell_type": "code",
   "execution_count": 12,
   "id": "38cb0ac7",
   "metadata": {
    "colab": {
     "base_uri": "https://localhost:8080/"
    },
    "id": "38cb0ac7",
    "outputId": "0cbab1b1-fbd6-421b-8d27-26856f0086ae"
   },
   "outputs": [
    {
     "data": {
      "text/plain": [
       "0.8223392884409834"
      ]
     },
     "execution_count": 12,
     "metadata": {},
     "output_type": "execute_result"
    }
   ],
   "source": [
    "lreg.score(X_train,y_train)\n"
   ]
  },
  {
   "cell_type": "code",
   "execution_count": 13,
   "id": "aca02643",
   "metadata": {
    "colab": {
     "base_uri": "https://localhost:8080/"
    },
    "id": "aca02643",
    "outputId": "5538f07f-1043-4048-e39e-521fff3673f9"
   },
   "outputs": [
    {
     "data": {
      "text/plain": [
       "0.8250200409726552"
      ]
     },
     "execution_count": 13,
     "metadata": {},
     "output_type": "execute_result"
    }
   ],
   "source": [
    "lreg.score(X_test,y_test)"
   ]
  },
  {
   "cell_type": "markdown",
   "id": "47a49652",
   "metadata": {
    "id": "47a49652"
   },
   "source": [
    "### XGBoost"
   ]
  },
  {
   "cell_type": "code",
   "execution_count": 19,
   "id": "ed540e73",
   "metadata": {
    "colab": {
     "base_uri": "https://localhost:8080/"
    },
    "id": "ed540e73",
    "outputId": "cfcaae88-75d8-49f3-db38-684d142be183"
   },
   "outputs": [
    {
     "data": {
      "text/plain": [
       "XGBClassifier(random_state=42)"
      ]
     },
     "execution_count": 19,
     "metadata": {},
     "output_type": "execute_result"
    }
   ],
   "source": [
    "from xgboost import XGBClassifier\n",
    "xgb = XGBClassifier(random_state = 42)\n",
    "xgb.fit(X_train,y_train)"
   ]
  },
  {
   "cell_type": "code",
   "execution_count": 20,
   "id": "6e809539",
   "metadata": {
    "colab": {
     "base_uri": "https://localhost:8080/"
    },
    "id": "6e809539",
    "outputId": "3599f150-943f-45b8-c931-830ec781ad43",
    "scrolled": true
   },
   "outputs": [
    {
     "data": {
      "text/plain": [
       "0.8175487465181058"
      ]
     },
     "execution_count": 20,
     "metadata": {},
     "output_type": "execute_result"
    }
   ],
   "source": [
    "xgb.score(X_train,y_train)"
   ]
  },
  {
   "cell_type": "code",
   "execution_count": 21,
   "id": "bbd01910",
   "metadata": {
    "colab": {
     "base_uri": "https://localhost:8080/"
    },
    "id": "bbd01910",
    "outputId": "90ff1d76-63af-4076-c8a3-9bfbc5f32537"
   },
   "outputs": [
    {
     "data": {
      "text/plain": [
       "0.8184110264455401"
      ]
     },
     "execution_count": 21,
     "metadata": {},
     "output_type": "execute_result"
    }
   ],
   "source": [
    "xgb.score(X_test,y_test)"
   ]
  },
  {
   "cell_type": "markdown",
   "id": "3c781871",
   "metadata": {
    "id": "3c781871"
   },
   "source": [
    "### Decision Tree"
   ]
  },
  {
   "cell_type": "code",
   "execution_count": 16,
   "id": "c890df97",
   "metadata": {
    "colab": {
     "base_uri": "https://localhost:8080/"
    },
    "id": "c890df97",
    "outputId": "937eb4fd-be5d-47a0-9d6a-b85f6c6433eb"
   },
   "outputs": [
    {
     "data": {
      "text/plain": [
       "DecisionTreeClassifier(random_state=42)"
      ]
     },
     "execution_count": 16,
     "metadata": {},
     "output_type": "execute_result"
    }
   ],
   "source": [
    "from sklearn.tree import DecisionTreeClassifier\n",
    "dt_model = DecisionTreeClassifier(random_state = 42)\n",
    "dt_model.fit(X_train,y_train)"
   ]
  },
  {
   "cell_type": "code",
   "execution_count": 17,
   "id": "7477929b",
   "metadata": {
    "colab": {
     "base_uri": "https://localhost:8080/"
    },
    "id": "7477929b",
    "outputId": "0ebbab26-7765-4208-c1ba-7f9ef836da42"
   },
   "outputs": [
    {
     "data": {
      "text/plain": [
       "0.993339567548999"
      ]
     },
     "execution_count": 17,
     "metadata": {},
     "output_type": "execute_result"
    }
   ],
   "source": [
    "dt_model.score(X_train,y_train)"
   ]
  },
  {
   "cell_type": "code",
   "execution_count": 18,
   "id": "c9a67e75",
   "metadata": {
    "colab": {
     "base_uri": "https://localhost:8080/"
    },
    "id": "c9a67e75",
    "outputId": "6fa0f408-bbfd-46a9-8d61-7ef524a86503"
   },
   "outputs": [
    {
     "data": {
      "text/plain": [
       "0.8302088435677072"
      ]
     },
     "execution_count": 18,
     "metadata": {},
     "output_type": "execute_result"
    }
   ],
   "source": [
    "dt_model.score(X_test,y_test)"
   ]
  },
  {
   "cell_type": "markdown",
   "id": "aac9df5f",
   "metadata": {
    "id": "aac9df5f"
   },
   "source": [
    "### RandomForest"
   ]
  },
  {
   "cell_type": "code",
   "execution_count": 14,
   "id": "21d276e4",
   "metadata": {
    "colab": {
     "base_uri": "https://localhost:8080/"
    },
    "id": "21d276e4",
    "outputId": "01a9ed0a-e046-4d70-c5b3-587803b852c1"
   },
   "outputs": [
    {
     "data": {
      "text/plain": [
       "RandomForestClassifier(min_samples_leaf=3, min_samples_split=6, n_estimators=50,\n",
       "                       random_state=42)"
      ]
     },
     "execution_count": 14,
     "metadata": {},
     "output_type": "execute_result"
    }
   ],
   "source": [
    "from sklearn.ensemble import RandomForestClassifier\n",
    "rf_model = RandomForestClassifier(random_state =42, min_samples_split=6,min_samples_leaf=3,n_estimators=50 )\n",
    "rf_model.fit(X_train,y_train)"
   ]
  },
  {
   "cell_type": "code",
   "execution_count": 15,
   "id": "390a3bdd",
   "metadata": {
    "colab": {
     "base_uri": "https://localhost:8080/"
    },
    "id": "390a3bdd",
    "outputId": "d06657f8-f031-49b3-969e-18eb91cbe62b"
   },
   "outputs": [
    {
     "data": {
      "text/plain": [
       "0.9107497327836311"
      ]
     },
     "execution_count": 15,
     "metadata": {},
     "output_type": "execute_result"
    }
   ],
   "source": [
    "rf_model.score(X_train,y_train)"
   ]
  },
  {
   "cell_type": "code",
   "execution_count": 16,
   "id": "9ca1f438",
   "metadata": {
    "colab": {
     "base_uri": "https://localhost:8080/"
    },
    "id": "9ca1f438",
    "outputId": "5b4e7ea7-6bce-46e2-db5c-bcf02ff7173c"
   },
   "outputs": [
    {
     "data": {
      "text/plain": [
       "0.8653246637570143"
      ]
     },
     "execution_count": 16,
     "metadata": {},
     "output_type": "execute_result"
    }
   ],
   "source": [
    "rf_model.score(X_test,y_test)"
   ]
  },
  {
   "cell_type": "markdown",
   "id": "vLM0admv7iSw",
   "metadata": {
    "id": "vLM0admv7iSw"
   },
   "source": [
    "### AdaBoost"
   ]
  },
  {
   "cell_type": "code",
   "execution_count": 28,
   "id": "3UpHAYEYJmfQ",
   "metadata": {
    "colab": {
     "base_uri": "https://localhost:8080/"
    },
    "id": "3UpHAYEYJmfQ",
    "outputId": "1f9863b9-bbaa-4612-a260-a297e86d9af9"
   },
   "outputs": [
    {
     "data": {
      "text/plain": [
       "AdaBoostClassifier(learning_rate=1, n_estimators=300)"
      ]
     },
     "execution_count": 28,
     "metadata": {},
     "output_type": "execute_result"
    }
   ],
   "source": [
    "from sklearn.ensemble import AdaBoostClassifier\n",
    "\n",
    "abc_model = AdaBoostClassifier(n_estimators=300, learning_rate=1)\n",
    "abc_model.fit(X_train, y_train)"
   ]
  },
  {
   "cell_type": "code",
   "execution_count": 29,
   "id": "i602dyf873Fq",
   "metadata": {
    "colab": {
     "base_uri": "https://localhost:8080/"
    },
    "id": "i602dyf873Fq",
    "outputId": "3b321287-60aa-42d7-80ca-ea37590b54fc"
   },
   "outputs": [
    {
     "data": {
      "text/plain": [
       "0.8166602631831716"
      ]
     },
     "execution_count": 29,
     "metadata": {},
     "output_type": "execute_result"
    }
   ],
   "source": [
    "abc_model.score(X_train,y_train)"
   ]
  },
  {
   "cell_type": "code",
   "execution_count": 30,
   "id": "NqWVbGN374Go",
   "metadata": {
    "colab": {
     "base_uri": "https://localhost:8080/"
    },
    "id": "NqWVbGN374Go",
    "outputId": "5ea56fb5-d403-424d-d277-52ed69232beb"
   },
   "outputs": [
    {
     "data": {
      "text/plain": [
       "0.8172344240251008"
      ]
     },
     "execution_count": 30,
     "metadata": {},
     "output_type": "execute_result"
    }
   ],
   "source": [
    "abc_model.score(X_test,y_test)"
   ]
  },
  {
   "cell_type": "markdown",
   "id": "n6p-VyEJk6I5",
   "metadata": {
    "id": "n6p-VyEJk6I5"
   },
   "source": [
    "### LightGBM"
   ]
  },
  {
   "cell_type": "code",
   "execution_count": 6,
   "id": "9l7MpxdTk-NM",
   "metadata": {
    "colab": {
     "base_uri": "https://localhost:8080/"
    },
    "id": "9l7MpxdTk-NM",
    "outputId": "2a4aa74b-5487-4606-ddc8-1c380ec065f5"
   },
   "outputs": [
    {
     "ename": "NameError",
     "evalue": "name 'X_train' is not defined",
     "output_type": "error",
     "traceback": [
      "\u001b[0;31m---------------------------------------------------------------------------\u001b[0m",
      "\u001b[0;31mNameError\u001b[0m                                 Traceback (most recent call last)",
      "\u001b[0;32m/var/folders/zj/6wnpqcz16vd7zqsq_dptdw480000gn/T/ipykernel_8538/3817436878.py\u001b[0m in \u001b[0;36m<module>\u001b[0;34m\u001b[0m\n\u001b[1;32m      1\u001b[0m \u001b[0;32mimport\u001b[0m \u001b[0mlightgbm\u001b[0m \u001b[0;32mas\u001b[0m \u001b[0mlgb\u001b[0m\u001b[0;34m\u001b[0m\u001b[0;34m\u001b[0m\u001b[0m\n\u001b[1;32m      2\u001b[0m \u001b[0mlgb_model\u001b[0m \u001b[0;34m=\u001b[0m \u001b[0mlgb\u001b[0m\u001b[0;34m.\u001b[0m\u001b[0mLGBMClassifier\u001b[0m\u001b[0;34m(\u001b[0m \u001b[0mn_estimators\u001b[0m\u001b[0;34m=\u001b[0m\u001b[0;36m100\u001b[0m\u001b[0;34m)\u001b[0m\u001b[0;34m\u001b[0m\u001b[0;34m\u001b[0m\u001b[0m\n\u001b[0;32m----> 3\u001b[0;31m \u001b[0mlgb_model\u001b[0m\u001b[0;34m.\u001b[0m\u001b[0mfit\u001b[0m\u001b[0;34m(\u001b[0m\u001b[0mX_train\u001b[0m\u001b[0;34m,\u001b[0m \u001b[0my_train\u001b[0m\u001b[0;34m)\u001b[0m\u001b[0;34m\u001b[0m\u001b[0;34m\u001b[0m\u001b[0m\n\u001b[0m",
      "\u001b[0;31mNameError\u001b[0m: name 'X_train' is not defined"
     ]
    }
   ],
   "source": [
    "import lightgbm as lgb\n",
    "lgb_model = lgb.LGBMClassifier( n_estimators=100,warm_start = True)\n",
    "lgb_model.fit(X_train, y_train)"
   ]
  },
  {
   "cell_type": "code",
   "execution_count": 252,
   "id": "Tf4Zq_YklByh",
   "metadata": {
    "colab": {
     "base_uri": "https://localhost:8080/"
    },
    "id": "Tf4Zq_YklByh",
    "outputId": "1df07e8b-e8e4-48ab-e76e-b5a0decb4c2d"
   },
   "outputs": [
    {
     "data": {
      "text/plain": [
       "0.8659526622708389"
      ]
     },
     "execution_count": 252,
     "metadata": {},
     "output_type": "execute_result"
    }
   ],
   "source": [
    "lgb_model.score(X_train,y_train)"
   ]
  },
  {
   "cell_type": "code",
   "execution_count": 253,
   "id": "jTkKgbNQlBmX",
   "metadata": {
    "colab": {
     "base_uri": "https://localhost:8080/"
    },
    "id": "jTkKgbNQlBmX",
    "outputId": "5212ddc1-0a00-4db1-83aa-83b683fdadf5"
   },
   "outputs": [
    {
     "data": {
      "text/plain": [
       "0.8659526622708389"
      ]
     },
     "execution_count": 253,
     "metadata": {},
     "output_type": "execute_result"
    }
   ],
   "source": [
    "lgb_model.score(X_train,y_train)"
   ]
  },
  {
   "cell_type": "markdown",
   "id": "R42utCWMc8az",
   "metadata": {
    "id": "R42utCWMc8az"
   },
   "source": [
    "### SVM"
   ]
  },
  {
   "cell_type": "code",
   "execution_count": null,
   "id": "NTRsiwp9e7IJ",
   "metadata": {
    "colab": {
     "base_uri": "https://localhost:8080/"
    },
    "id": "NTRsiwp9e7IJ",
    "outputId": "fb1317d0-95eb-47b9-899b-bfe082544090"
   },
   "outputs": [],
   "source": [
    "from sklearn.svm import SVC\n",
    "svm=SVC(kernel='linear',C=0.1,random_state=101)\n",
    "\n",
    "svm.fit(X_train, y_train)"
   ]
  },
  {
   "cell_type": "code",
   "execution_count": null,
   "id": "CJ0yTwTMdajz",
   "metadata": {
    "colab": {
     "base_uri": "https://localhost:8080/"
    },
    "id": "CJ0yTwTMdajz",
    "outputId": "974c99e3-c8c1-4ded-9a15-ebf974d7c896"
   },
   "outputs": [],
   "source": [
    "svm.score(X_train,y_train)"
   ]
  },
  {
   "cell_type": "code",
   "execution_count": 36,
   "id": "F3PB77__dfdO",
   "metadata": {
    "colab": {
     "base_uri": "https://localhost:8080/"
    },
    "id": "F3PB77__dfdO",
    "outputId": "f819dc54-b6c6-421d-f35f-786a80bdc420"
   },
   "outputs": [
    {
     "data": {
      "text/plain": [
       "0.7818803227252353"
      ]
     },
     "execution_count": 36,
     "metadata": {},
     "output_type": "execute_result"
    }
   ],
   "source": [
    "svm.score(X_test,y_test)"
   ]
  },
  {
   "cell_type": "markdown",
   "id": "b1192cc6",
   "metadata": {
    "id": "b1192cc6"
   },
   "source": [
    "## Applying Hyper Parameter Tuning using Grid SeachCV for all  alogorithms to check best score and best parameters\n"
   ]
  },
  {
   "cell_type": "code",
   "execution_count": 37,
   "id": "t2fqIK5VmaqU",
   "metadata": {
    "colab": {
     "base_uri": "https://localhost:8080/"
    },
    "id": "t2fqIK5VmaqU",
    "outputId": "bf51d03f-78eb-4d26-cc70-a742155ebdac"
   },
   "outputs": [
    {
     "name": "stdout",
     "output_type": "stream",
     "text": [
      "Logistic Regression Best score: 0.8097685471883278 using best parameters {'C': 1, 'max_iter': 4000, 'penalty': 'l2', 'solver': 'newton-cg'}\n"
     ]
    }
   ],
   "source": [
    "param_grid = [{'penalty': ['l2'],'C': [1,10],'max_iter': [4000],'solver': ['lbfgs','newton-cg']}]\n",
    "from sklearn.model_selection import GridSearchCV\n",
    "clf = GridSearchCV(estimator=lreg, param_grid = param_grid, cv = 10, n_jobs=-1)\n",
    "best_clf = clf.fit(X_train,y_train)\n",
    "print('Logistic Regression Best score: {} using best parameters {}'.format(best_clf.best_score_, best_clf.best_params_))"
   ]
  },
  {
   "cell_type": "code",
   "execution_count": 38,
   "id": "rslbrEsMlK3G",
   "metadata": {
    "colab": {
     "base_uri": "https://localhost:8080/"
    },
    "id": "rslbrEsMlK3G",
    "outputId": "1e656bb8-899b-4d63-f464-e7d6ce479c80"
   },
   "outputs": [
    {
     "name": "stdout",
     "output_type": "stream",
     "text": [
      "Decision Tree Best score: 0.8077275348179619 using best parameters {'criterion': 'gini', 'max_features': 'auto', 'min_samples_leaf': 4, 'min_samples_split': 2}\n"
     ]
    }
   ],
   "source": [
    "param_grid= { 'criterion' : ['gini', 'entropy'],'min_samples_split' : [2,4,6,8],\n",
    "                  'min_samples_leaf': [1,2,3,4,5],'max_features' : ['auto', 'sqrt']}\n",
    "from sklearn.model_selection import GridSearchCV\n",
    "clf = GridSearchCV(estimator=dt_model, param_grid = param_grid, cv = 10, n_jobs=-1)\n",
    "best_clf = clf.fit(X_train,y_train)\n",
    "print('Decision Tree Best score: {} using best parameters {}'.format(best_clf.best_score_, best_clf.best_params_))"
   ]
  },
  {
   "cell_type": "code",
   "execution_count": 74,
   "id": "sN-GkjCKr8fY",
   "metadata": {
    "colab": {
     "base_uri": "https://localhost:8080/"
    },
    "id": "sN-GkjCKr8fY",
    "outputId": "fa2f557c-6170-4bc4-8081-6bcc712b1a75"
   },
   "outputs": [
    {
     "name": "stdout",
     "output_type": "stream",
     "text": [
      "Random Forest Best score: 0.8401211147283121 using best parameters {'min_samples_leaf': 3, 'min_samples_split': 6, 'n_estimators': 50}\n"
     ]
    }
   ],
   "source": [
    "param_grid = {'n_estimators' : [50],'min_samples_split' : [6,8,10],\n",
    "              'min_samples_leaf': [3,5,7]}\n",
    "from sklearn.model_selection import GridSearchCV\n",
    "clf = GridSearchCV(estimator=rf_model, param_grid = param_grid, cv = 10, n_jobs=-1)\n",
    "best_clf = clf.fit(X_train,y_train)\n",
    "print('Random Forest Best score: {} using best parameters {}'.format(best_clf.best_score_, best_clf.best_params_))"
   ]
  },
  {
   "cell_type": "code",
   "execution_count": 40,
   "id": "h0Gw97f7sEUi",
   "metadata": {
    "colab": {
     "base_uri": "https://localhost:8080/"
    },
    "id": "h0Gw97f7sEUi",
    "outputId": "ed80bd3b-156d-49ce-ef35-940a65e4ec60"
   },
   "outputs": [
    {
     "name": "stdout",
     "output_type": "stream",
     "text": [
      "XGBOOST Best score: 0.8452116754482774 using best parameters {'gamma': 0.05, 'max_depth': 15, 'n_estimators': 200}\n"
     ]
    }
   ],
   "source": [
    "param_grid ={'max_depth':[5,15],'n_estimators': [100,200],'gamma': [0.05]}\n",
    "from sklearn.model_selection import GridSearchCV\n",
    "clf = GridSearchCV(estimator= xgb, param_grid = param_grid, cv = 10, n_jobs=-1)\n",
    "best_clf = clf.fit(X_train,y_train)\n",
    "print('XGBOOST Best score: {} using best parameters {}'.format(best_clf.best_score_, best_clf.best_params_))"
   ]
  },
  {
   "cell_type": "code",
   "execution_count": 41,
   "id": "68KyYt_qFAqY",
   "metadata": {
    "colab": {
     "base_uri": "https://localhost:8080/"
    },
    "id": "68KyYt_qFAqY",
    "outputId": "fd1fbd4e-19c4-4833-c675-719531824302"
   },
   "outputs": [
    {
     "name": "stdout",
     "output_type": "stream",
     "text": [
      "ADABOOST Best score: 0.8145710157261753 using best parameters {'n_estimators': 200}\n"
     ]
    }
   ],
   "source": [
    "param_grid ={'n_estimators':[50,100,200]}\n",
    "from sklearn.model_selection import GridSearchCV\n",
    "clf = GridSearchCV(estimator= abc_model, param_grid = param_grid, cv = 10, n_jobs=-1)\n",
    "best_clf = clf.fit(X_train,y_train)\n",
    "print('ADABOOST Best score: {} using best parameters {}'.format(best_clf.best_score_, best_clf.best_params_))"
   ]
  },
  {
   "cell_type": "code",
   "execution_count": 42,
   "id": "9XXENYktl5p_",
   "metadata": {
    "colab": {
     "base_uri": "https://localhost:8080/"
    },
    "id": "9XXENYktl5p_",
    "outputId": "d345c516-0250-4455-fcad-495bd9f22fa1"
   },
   "outputs": [
    {
     "name": "stdout",
     "output_type": "stream",
     "text": [
      "LGBM Best score: 0.8414898812550957 using best parameters {'n_estimators': 400}\n"
     ]
    }
   ],
   "source": [
    "param_grid ={'n_estimators':[100,200,400]}\n",
    "from sklearn.model_selection import GridSearchCV\n",
    "clf = GridSearchCV(estimator= lgb_model, param_grid = param_grid, cv = 10, n_jobs=-1)\n",
    "best_clf = clf.fit(X_train,y_train)\n",
    "print('LGBM Best score: {} using best parameters {}'.format(best_clf.best_score_, best_clf.best_params_))"
   ]
  },
  {
   "cell_type": "markdown",
   "id": "MVvH5-Sosf21",
   "metadata": {
    "id": "MVvH5-Sosf21"
   },
   "source": [
    "### Applying StratifiedKfold Cross Validation Technique on all algorithms to know the exact mean CV accuracy score of the models\n",
    "\n"
   ]
  },
  {
   "cell_type": "markdown",
   "id": "eJS8zs4R-WCf",
   "metadata": {
    "id": "eJS8zs4R-WCf"
   },
   "source": [
    "Input the best parameters obtained in hyper tuning tuning for respective alogorithms"
   ]
  },
  {
   "cell_type": "code",
   "execution_count": 17,
   "id": "JMNKC00useLg",
   "metadata": {
    "colab": {
     "base_uri": "https://localhost:8080/"
    },
    "id": "JMNKC00useLg",
    "outputId": "e9fcb520-729d-4931-db1c-2c4f75970f03"
   },
   "outputs": [
    {
     "name": "stdout",
     "output_type": "stream",
     "text": [
      "Logistic Regression CV Mean Accuarcy Score is 82.37715469239856\n"
     ]
    }
   ],
   "source": [
    "from sklearn.model_selection import cross_val_score,StratifiedKFold\n",
    "skfold = StratifiedKFold(n_splits= 5,shuffle= True,random_state= 42)\n",
    "\n",
    "lgr_model=LogisticRegression(C = 1, max_iter = 4000,penalty = 'l2',solver = 'newton-cg')\n",
    "\n",
    "lreg_cv_result = cross_val_score(lgr_model,X, y, cv=skfold,scoring=\"accuracy\",n_jobs=-1)\n",
    "lreg_cv = lreg_cv_result.mean()*100\n",
    "print('Logistic Regression CV Mean Accuarcy Score is {}'.format(lreg_cv))"
   ]
  },
  {
   "cell_type": "code",
   "execution_count": 44,
   "id": "vvwZ4jhlsEHJ",
   "metadata": {
    "colab": {
     "base_uri": "https://localhost:8080/"
    },
    "id": "vvwZ4jhlsEHJ",
    "outputId": "7106a7d2-4672-4bcb-98df-360b8ee00167"
   },
   "outputs": [
    {
     "name": "stdout",
     "output_type": "stream",
     "text": [
      "Decision Tree CV Mean Accuarcy Score is 80.75709327603961\n"
     ]
    }
   ],
   "source": [
    "dt_model=DecisionTreeClassifier(criterion = 'gini',max_features = 'auto',min_samples_leaf = 4,min_samples_split = 2)\n",
    "\n",
    "dt_cv_result = cross_val_score(dt_model, X, y, cv=skfold,scoring=\"accuracy\",n_jobs=-1)\n",
    "dt_cv = dt_cv_result.mean()*100\n",
    "print('Decision Tree CV Mean Accuarcy Score is {}'.format(dt_cv))"
   ]
  },
  {
   "cell_type": "code",
   "execution_count": 18,
   "id": "UdhYGf9S-q3i",
   "metadata": {
    "colab": {
     "base_uri": "https://localhost:8080/"
    },
    "id": "UdhYGf9S-q3i",
    "outputId": "243681bd-f383-485a-92b7-4eb03a191867"
   },
   "outputs": [
    {
     "name": "stdout",
     "output_type": "stream",
     "text": [
      "Random Forest CV Mean Accuarcy Score is 84.94241633109226\n"
     ]
    }
   ],
   "source": [
    "rf_model=RandomForestClassifier(max_depth = 15,min_samples_leaf= 1, min_samples_split = 2,n_estimators = 200)\n",
    "rf_cv_result = cross_val_score(rf_model,X, y, cv=skfold,scoring=\"accuracy\",n_jobs=-1)\n",
    "rf_cv = rf_cv_result.mean()*100\n",
    "print('Random Forest CV Mean Accuarcy Score is {}'.format(rf_cv))"
   ]
  },
  {
   "cell_type": "code",
   "execution_count": 51,
   "id": "tEHmP5YX-q0e",
   "metadata": {
    "colab": {
     "base_uri": "https://localhost:8080/"
    },
    "id": "tEHmP5YX-q0e",
    "outputId": "7ad94bea-c0dc-4d3e-b7b8-2875f9956667"
   },
   "outputs": [
    {
     "name": "stdout",
     "output_type": "stream",
     "text": [
      "XGBOOST CV Mean Accuarcy Score is 85.32744264624661\n"
     ]
    }
   ],
   "source": [
    "xgb_model=XGBClassifier(n_estimators = 200,max_depth = 15,gamma = 0.05)\n",
    "\n",
    "xgb_cv_result = cross_val_score(xgb_model,X, y, cv=skfold,scoring=\"accuracy\",n_jobs=-1)\n",
    "xgb_cv = xgb_cv_result.mean()*100\n",
    "print('XGBOOST CV Mean Accuarcy Score is {}'.format(xgb_cv))"
   ]
  },
  {
   "cell_type": "code",
   "execution_count": 47,
   "id": "dxLpiJd7-qxV",
   "metadata": {
    "colab": {
     "base_uri": "https://localhost:8080/"
    },
    "id": "dxLpiJd7-qxV",
    "outputId": "32bb81c2-051e-4fa6-fcce-440478215e1a"
   },
   "outputs": [
    {
     "name": "stdout",
     "output_type": "stream",
     "text": [
      "ADABOOST CV Mean Accuarcy Score is 81.5353408736162\n"
     ]
    }
   ],
   "source": [
    "adb_model=AdaBoostClassifier(n_estimators = 200)\n",
    "\n",
    "adb_cv_result = cross_val_score(adb_model,X, y, cv=skfold,scoring=\"accuracy\",n_jobs=-1)\n",
    "adb_cv = adb_cv_result.mean()*100\n",
    "print('ADABOOST CV Mean Accuarcy Score is {}'.format(adb_cv))"
   ]
  },
  {
   "cell_type": "code",
   "execution_count": 256,
   "id": "AnVg_jiQmb3x",
   "metadata": {
    "colab": {
     "base_uri": "https://localhost:8080/"
    },
    "id": "AnVg_jiQmb3x",
    "outputId": "c447fecd-80b5-44ff-df4f-736d459d8f07"
   },
   "outputs": [
    {
     "name": "stdout",
     "output_type": "stream",
     "text": [
      "LGBM CV Mean Accuarcy Score is 86.56688186966797\n"
     ]
    }
   ],
   "source": [
    "lgb_model=lgb.LGBMClassifier(n_estimators = 200)\n",
    "\n",
    "lgb_cv_result = cross_val_score(lgb_model,X, y, cv=skfold,scoring=\"accuracy\",n_jobs=-1)\n",
    "lgb_cv = lgb_cv_result.mean()*100\n",
    "print('LGBM CV Mean Accuarcy Score is {}'.format(lgb_cv))"
   ]
  },
  {
   "cell_type": "markdown",
   "id": "KY__-oPxOt00",
   "metadata": {
    "id": "KY__-oPxOt00"
   },
   "source": [
    "### Plotting Dataframe to present the mean CV accuracy score of the Models\n"
   ]
  },
  {
   "cell_type": "code",
   "execution_count": 257,
   "id": "l_A83wr--quS",
   "metadata": {
    "colab": {
     "base_uri": "https://localhost:8080/",
     "height": 235
    },
    "id": "l_A83wr--quS",
    "outputId": "7a86d7f2-9c6d-483a-c1f3-5b5fec9cb597"
   },
   "outputs": [
    {
     "data": {
      "text/html": [
       "\n",
       "  <div id=\"df-19a17a35-a6cd-4113-94f1-8ad91b6c19a9\">\n",
       "    <div class=\"colab-df-container\">\n",
       "      <div>\n",
       "<style scoped>\n",
       "    .dataframe tbody tr th:only-of-type {\n",
       "        vertical-align: middle;\n",
       "    }\n",
       "\n",
       "    .dataframe tbody tr th {\n",
       "        vertical-align: top;\n",
       "    }\n",
       "\n",
       "    .dataframe thead th {\n",
       "        text-align: right;\n",
       "    }\n",
       "</style>\n",
       "<table border=\"1\" class=\"dataframe\">\n",
       "  <thead>\n",
       "    <tr style=\"text-align: right;\">\n",
       "      <th></th>\n",
       "      <th>Model</th>\n",
       "      <th>CV_Accuracy_Score</th>\n",
       "    </tr>\n",
       "  </thead>\n",
       "  <tbody>\n",
       "    <tr>\n",
       "      <th>0</th>\n",
       "      <td>Logistic Regression</td>\n",
       "      <td>82.627658</td>\n",
       "    </tr>\n",
       "    <tr>\n",
       "      <th>1</th>\n",
       "      <td>Decision Tree</td>\n",
       "      <td>80.757093</td>\n",
       "    </tr>\n",
       "    <tr>\n",
       "      <th>2</th>\n",
       "      <td>Random Forest</td>\n",
       "      <td>85.035479</td>\n",
       "    </tr>\n",
       "    <tr>\n",
       "      <th>3</th>\n",
       "      <td>XGBoost</td>\n",
       "      <td>85.327443</td>\n",
       "    </tr>\n",
       "    <tr>\n",
       "      <th>4</th>\n",
       "      <td>ADABoost</td>\n",
       "      <td>81.535341</td>\n",
       "    </tr>\n",
       "    <tr>\n",
       "      <th>5</th>\n",
       "      <td>LGBM</td>\n",
       "      <td>86.566882</td>\n",
       "    </tr>\n",
       "  </tbody>\n",
       "</table>\n",
       "</div>\n",
       "      <button class=\"colab-df-convert\" onclick=\"convertToInteractive('df-19a17a35-a6cd-4113-94f1-8ad91b6c19a9')\"\n",
       "              title=\"Convert this dataframe to an interactive table.\"\n",
       "              style=\"display:none;\">\n",
       "        \n",
       "  <svg xmlns=\"http://www.w3.org/2000/svg\" height=\"24px\"viewBox=\"0 0 24 24\"\n",
       "       width=\"24px\">\n",
       "    <path d=\"M0 0h24v24H0V0z\" fill=\"none\"/>\n",
       "    <path d=\"M18.56 5.44l.94 2.06.94-2.06 2.06-.94-2.06-.94-.94-2.06-.94 2.06-2.06.94zm-11 1L8.5 8.5l.94-2.06 2.06-.94-2.06-.94L8.5 2.5l-.94 2.06-2.06.94zm10 10l.94 2.06.94-2.06 2.06-.94-2.06-.94-.94-2.06-.94 2.06-2.06.94z\"/><path d=\"M17.41 7.96l-1.37-1.37c-.4-.4-.92-.59-1.43-.59-.52 0-1.04.2-1.43.59L10.3 9.45l-7.72 7.72c-.78.78-.78 2.05 0 2.83L4 21.41c.39.39.9.59 1.41.59.51 0 1.02-.2 1.41-.59l7.78-7.78 2.81-2.81c.8-.78.8-2.07 0-2.86zM5.41 20L4 18.59l7.72-7.72 1.47 1.35L5.41 20z\"/>\n",
       "  </svg>\n",
       "      </button>\n",
       "      \n",
       "  <style>\n",
       "    .colab-df-container {\n",
       "      display:flex;\n",
       "      flex-wrap:wrap;\n",
       "      gap: 12px;\n",
       "    }\n",
       "\n",
       "    .colab-df-convert {\n",
       "      background-color: #E8F0FE;\n",
       "      border: none;\n",
       "      border-radius: 50%;\n",
       "      cursor: pointer;\n",
       "      display: none;\n",
       "      fill: #1967D2;\n",
       "      height: 32px;\n",
       "      padding: 0 0 0 0;\n",
       "      width: 32px;\n",
       "    }\n",
       "\n",
       "    .colab-df-convert:hover {\n",
       "      background-color: #E2EBFA;\n",
       "      box-shadow: 0px 1px 2px rgba(60, 64, 67, 0.3), 0px 1px 3px 1px rgba(60, 64, 67, 0.15);\n",
       "      fill: #174EA6;\n",
       "    }\n",
       "\n",
       "    [theme=dark] .colab-df-convert {\n",
       "      background-color: #3B4455;\n",
       "      fill: #D2E3FC;\n",
       "    }\n",
       "\n",
       "    [theme=dark] .colab-df-convert:hover {\n",
       "      background-color: #434B5C;\n",
       "      box-shadow: 0px 1px 3px 1px rgba(0, 0, 0, 0.15);\n",
       "      filter: drop-shadow(0px 1px 2px rgba(0, 0, 0, 0.3));\n",
       "      fill: #FFFFFF;\n",
       "    }\n",
       "  </style>\n",
       "\n",
       "      <script>\n",
       "        const buttonEl =\n",
       "          document.querySelector('#df-19a17a35-a6cd-4113-94f1-8ad91b6c19a9 button.colab-df-convert');\n",
       "        buttonEl.style.display =\n",
       "          google.colab.kernel.accessAllowed ? 'block' : 'none';\n",
       "\n",
       "        async function convertToInteractive(key) {\n",
       "          const element = document.querySelector('#df-19a17a35-a6cd-4113-94f1-8ad91b6c19a9');\n",
       "          const dataTable =\n",
       "            await google.colab.kernel.invokeFunction('convertToInteractive',\n",
       "                                                     [key], {});\n",
       "          if (!dataTable) return;\n",
       "\n",
       "          const docLinkHtml = 'Like what you see? Visit the ' +\n",
       "            '<a target=\"_blank\" href=https://colab.research.google.com/notebooks/data_table.ipynb>data table notebook</a>'\n",
       "            + ' to learn more about interactive tables.';\n",
       "          element.innerHTML = '';\n",
       "          dataTable['output_type'] = 'display_data';\n",
       "          await google.colab.output.renderOutput(dataTable, element);\n",
       "          const docLink = document.createElement('div');\n",
       "          docLink.innerHTML = docLinkHtml;\n",
       "          element.appendChild(docLink);\n",
       "        }\n",
       "      </script>\n",
       "    </div>\n",
       "  </div>\n",
       "  "
      ],
      "text/plain": [
       "                 Model  CV_Accuracy_Score\n",
       "0  Logistic Regression          82.627658\n",
       "1        Decision Tree          80.757093\n",
       "2        Random Forest          85.035479\n",
       "3              XGBoost          85.327443\n",
       "4             ADABoost          81.535341\n",
       "5                 LGBM          86.566882"
      ]
     },
     "execution_count": 257,
     "metadata": {},
     "output_type": "execute_result"
    }
   ],
   "source": [
    "Model = ['Logistic Regression','Decision Tree','Random Forest','XGBoost','ADABoost','LGBM']\n",
    "Scores = [lreg_cv,dt_cv,rf_cv,xgb_cv,adb_cv,lgb_cv]\n",
    "df_score = pd.DataFrame(list(zip(Model,Scores)),columns=['Model','CV_Accuracy_Score'])\n",
    "df_score"
   ]
  },
  {
   "cell_type": "markdown",
   "id": "s1t5feRhVAU0",
   "metadata": {
    "id": "s1t5feRhVAU0"
   },
   "source": [
    "### Building Stacked Model"
   ]
  },
  {
   "cell_type": "code",
   "execution_count": 216,
   "id": "Mi8GWfnLDEbU",
   "metadata": {
    "colab": {
     "base_uri": "https://localhost:8080/"
    },
    "id": "Mi8GWfnLDEbU",
    "outputId": "5e308602-e1e4-4191-8c4f-db033d3ff0e8"
   },
   "outputs": [
    {
     "name": "stdout",
     "output_type": "stream",
     "text": [
      "Requirement already satisfied: vecstack in /usr/local/lib/python3.7/dist-packages (0.4.0)\n",
      "Requirement already satisfied: scikit-learn>=0.18 in /usr/local/lib/python3.7/dist-packages (from vecstack) (1.0.2)\n",
      "Requirement already satisfied: numpy in /usr/local/lib/python3.7/dist-packages (from vecstack) (1.19.5)\n",
      "Requirement already satisfied: scipy in /usr/local/lib/python3.7/dist-packages (from vecstack) (1.4.1)\n",
      "Requirement already satisfied: joblib>=0.11 in /usr/local/lib/python3.7/dist-packages (from scikit-learn>=0.18->vecstack) (1.1.0)\n",
      "Requirement already satisfied: threadpoolctl>=2.0.0 in /usr/local/lib/python3.7/dist-packages (from scikit-learn>=0.18->vecstack) (3.1.0)\n",
      "task:         [classification]\n",
      "n_classes:    [2]\n",
      "metric:       [accuracy_score]\n",
      "mode:         [oof_pred_bag]\n",
      "n_models:     [3]\n",
      "\n",
      "model  0:     [RandomForestClassifier]\n",
      "    fold  0:  [0.84668127]\n",
      "    fold  1:  [0.85058566]\n",
      "    fold  2:  [0.85058566]\n",
      "    fold  3:  [0.85391867]\n",
      "    fold  4:  [0.85971429]\n",
      "    ----\n",
      "    MEAN:     [0.85229711] + [0.00435981]\n",
      "    FULL:     [0.85229697]\n",
      "\n",
      "model  1:     [LGBMClassifier]\n",
      "    fold  0:  [0.86277497]\n",
      "    fold  1:  [0.86439387]\n",
      "    fold  2:  [0.86763165]\n",
      "    fold  3:  [0.86572707]\n",
      "    fold  4:  [0.87152381]\n",
      "    ----\n",
      "    MEAN:     [0.86641028] + [0.00301291]\n",
      "    FULL:     [0.86641018]\n",
      "\n",
      "model  2:     [LogisticRegression]\n",
      "    fold  0:  [0.82649271]\n",
      "    fold  1:  [0.83420627]\n",
      "    fold  2:  [0.82906390]\n",
      "    fold  3:  [0.82982573]\n",
      "    fold  4:  [0.83457143]\n",
      "    ----\n",
      "    MEAN:     [0.83083201] + [0.00310925]\n",
      "    FULL:     [0.83083194]\n",
      "\n"
     ]
    }
   ],
   "source": [
    "# !pip install vecstack\n",
    "\n",
    "# from vecstack import stacking\n",
    "# from sklearn.metrics import accuracy_score\n",
    "\n",
    "# models = [rf_model,lgb_model,lgr_model]\n",
    "\n",
    "# S_train, S_test =stacking(models,X_train,y_train,X_test,regression=False,metric=accuracy_score,n_folds=5,stratified=True,shuffle=True,verbose=2)"
   ]
  },
  {
   "cell_type": "code",
   "execution_count": 217,
   "id": "gb4LhJlbFj6t",
   "metadata": {
    "colab": {
     "base_uri": "https://localhost:8080/"
    },
    "id": "gb4LhJlbFj6t",
    "outputId": "7f5ea44c-25bd-4c4f-d343-6f41b797e753"
   },
   "outputs": [
    {
     "name": "stdout",
     "output_type": "stream",
     "text": [
      "Final prediction score: [0.87]\n"
     ]
    }
   ],
   "source": [
    "\n",
    "# model1=XGBClassifier( n_estimators=300)\n",
    "# model1 = model1.fit(S_train, y_train)\n",
    "# y_pred = model1.predict(S_test)\n",
    "\n",
    "# print('Final prediction score: [%.2f]' % accuracy_score(y_test, y_pred))\n"
   ]
  },
  {
   "cell_type": "code",
   "execution_count": 153,
   "id": "Z-Nu_blOiy_S",
   "metadata": {
    "colab": {
     "base_uri": "https://localhost:8080/"
    },
    "id": "Z-Nu_blOiy_S",
    "outputId": "b9a260f1-5c5f-48ea-d026-d925b1cd1b4e"
   },
   "outputs": [
    {
     "data": {
      "text/plain": [
       "array([0.84067227, 0.85008403, 0.85190788, 0.84736931, 0.85173979,\n",
       "       0.8399731 , 0.85442932, 0.85073122, 0.84888217, 0.84585645])"
      ]
     },
     "execution_count": 153,
     "metadata": {},
     "output_type": "execute_result"
    }
   ],
   "source": [
    "# scr = cross_val_score(model1, X, y, scoring='accuracy', cv=skfold, n_jobs=-1)\n",
    "# scr"
   ]
  },
  {
   "cell_type": "code",
   "execution_count": 154,
   "id": "NWHNKNkmlVbg",
   "metadata": {
    "colab": {
     "base_uri": "https://localhost:8080/"
    },
    "id": "NWHNKNkmlVbg",
    "outputId": "a2776945-3b05-42e8-e8da-da302ff79365"
   },
   "outputs": [
    {
     "data": {
      "text/plain": [
       "84.81645527600854"
      ]
     },
     "execution_count": 154,
     "metadata": {},
     "output_type": "execute_result"
    }
   ],
   "source": [
    "# scr.mean()*100"
   ]
  },
  {
   "cell_type": "code",
   "execution_count": null,
   "id": "vnEMcWMJlVMe",
   "metadata": {
    "id": "vnEMcWMJlVMe"
   },
   "outputs": [],
   "source": []
  },
  {
   "cell_type": "code",
   "execution_count": 19,
   "id": "YH2pEDIN-qrm",
   "metadata": {
    "colab": {
     "base_uri": "https://localhost:8080/"
    },
    "id": "YH2pEDIN-qrm",
    "outputId": "ab2a56ad-b935-4dee-fe45-cf26fd5b17f4"
   },
   "outputs": [
    {
     "data": {
      "text/plain": [
       "StackingClassifier(cv=5,\n",
       "                   estimators=[('rf_model',\n",
       "                                RandomForestClassifier(max_depth=15,\n",
       "                                                       n_estimators=200)),\n",
       "                               ('lgr_model',\n",
       "                                LogisticRegression(C=1, max_iter=4000,\n",
       "                                                   solver='newton-cg'))],\n",
       "                   final_estimator=LogisticRegression())"
      ]
     },
     "execution_count": 19,
     "metadata": {},
     "output_type": "execute_result"
    }
   ],
   "source": [
    "# Define estimators\n",
    "from sklearn.ensemble import StackingClassifier\n",
    "from sklearn.linear_model import LogisticRegression\n",
    "\n",
    "estimator_list = [\n",
    "    ('rf_model',rf_model),\n",
    "    ('lgr_model',lgr_model),\n",
    "\n",
    "   ]\n",
    "\n",
    "# Build stack model\n",
    "stack_model = StackingClassifier(\n",
    "    estimators=estimator_list, final_estimator=LogisticRegression(), cv=5,\n",
    ")\n",
    "\n",
    "# Train stacked model\n",
    "stack_model.fit(X_train, y_train)\n"
   ]
  },
  {
   "cell_type": "code",
   "execution_count": 220,
   "id": "2V6M2rRj-qoi",
   "metadata": {
    "colab": {
     "base_uri": "https://localhost:8080/"
    },
    "id": "2V6M2rRj-qoi",
    "outputId": "ae314242-c180-489f-f1ff-ece888b44da1"
   },
   "outputs": [
    {
     "data": {
      "text/plain": [
       "0.8861229620600335"
      ]
     },
     "execution_count": 220,
     "metadata": {},
     "output_type": "execute_result"
    }
   ],
   "source": [
    "# stack_model.score(X_train,y_train)"
   ]
  },
  {
   "cell_type": "code",
   "execution_count": 219,
   "id": "ocQTTsYa-qlx",
   "metadata": {
    "colab": {
     "base_uri": "https://localhost:8080/"
    },
    "id": "ocQTTsYa-qlx",
    "outputId": "ecbe0928-90d1-49c8-fdde-4d9a96b72bd1"
   },
   "outputs": [
    {
     "data": {
      "text/plain": [
       "0.8664563149942227"
      ]
     },
     "execution_count": 219,
     "metadata": {},
     "output_type": "execute_result"
    }
   ],
   "source": [
    "# stack_model.score(X_test,y_test)"
   ]
  },
  {
   "cell_type": "code",
   "execution_count": 20,
   "id": "mZ0fFGsTOczG",
   "metadata": {
    "colab": {
     "base_uri": "https://localhost:8080/",
     "height": 341
    },
    "id": "mZ0fFGsTOczG",
    "outputId": "935fb064-bdfb-43d5-cb1c-9262d92d1e4a"
   },
   "outputs": [
    {
     "data": {
      "text/plain": [
       "array([0.85130261, 0.85717149, 0.8530964 , 0.85563498, 0.85636983])"
      ]
     },
     "execution_count": 20,
     "metadata": {},
     "output_type": "execute_result"
    }
   ],
   "source": [
    "\n",
    "scr = cross_val_score(stack_model, X, y, scoring='accuracy', cv=skfold, n_jobs=-1)\n",
    "scr"
   ]
  },
  {
   "cell_type": "code",
   "execution_count": 21,
   "id": "rWk1sIMeyIXQ",
   "metadata": {
    "colab": {
     "base_uri": "https://localhost:8080/"
    },
    "id": "rWk1sIMeyIXQ",
    "outputId": "0d51722d-5c60-4b9b-8cbc-36d8e62c3fd9"
   },
   "outputs": [
    {
     "name": "stdout",
     "output_type": "stream",
     "text": [
      "Satcked Model CV Mean Accuarcy Score is 85.47150604234723\n"
     ]
    }
   ],
   "source": [
    "scr_cv = scr.mean()*100\n",
    "print('Satcked Model CV Mean Accuarcy Score is {}'.format(scr_cv))"
   ]
  },
  {
   "cell_type": "markdown",
   "id": "VWQkQ-oP9GMH",
   "metadata": {
    "id": "VWQkQ-oP9GMH"
   },
   "source": [
    "### ROC Curve"
   ]
  },
  {
   "cell_type": "code",
   "execution_count": 268,
   "id": "EgVcPVXF9Eje",
   "metadata": {
    "id": "EgVcPVXF9Eje"
   },
   "outputs": [],
   "source": [
    "from sklearn.metrics import roc_curve, roc_auc_score\n",
    "\n",
    "\n",
    "classifiers=[rf_model,lgr_model,lgb_model,stack_model]\n",
    "result_table = pd.DataFrame(columns=['classifiers', 'fpr','tpr','auc'])\n",
    "\n",
    "# Define a result table as a DataFrame\n",
    "result_table = pd.DataFrame(columns=['classifiers', 'fpr','tpr','auc'])\n",
    "\n",
    "# Train the models and record the results\n",
    "for cls in classifiers:\n",
    "    model = cls.fit(X_train, y_train)\n",
    "    yproba = model.predict_proba(X_test)[::,1]\n",
    "    \n",
    "    fpr, tpr, _ = roc_curve(y_test,  yproba)\n",
    "    auc = roc_auc_score(y_test, yproba)\n",
    "    \n",
    "    result_table = result_table.append({'classifiers':cls.__class__.__name__,\n",
    "                                        'fpr':fpr, \n",
    "                                        'tpr':tpr, \n",
    "                                        'auc':auc}, ignore_index=True)\n",
    "\n",
    "# Set name of the classifiers as index labels\n",
    "result_table.set_index('classifiers', inplace=True)\n",
    "\n",
    "\n",
    "\n"
   ]
  },
  {
   "cell_type": "code",
   "execution_count": 269,
   "id": "petnZfc3AMWv",
   "metadata": {
    "colab": {
     "base_uri": "https://localhost:8080/",
     "height": 414
    },
    "id": "petnZfc3AMWv",
    "outputId": "0e94c404-056c-4541-f5a6-f9d176cd1527"
   },
   "outputs": [
    {
     "data": {
      "image/png": "[encoded data removed]",
      "text/plain": [
       "<Figure size 576x432 with 1 Axes>"
      ]
     },
     "metadata": {},
     "output_type": "display_data"
    }
   ],
   "source": [
    "%matplotlib inline\n",
    "import matplotlib.pyplot as plt\n",
    "import seaborn as sns\n",
    "sns.set()\n",
    "\n",
    "fig = plt.figure(figsize=(8,6))\n",
    "\n",
    "\n",
    "for i in result_table.index:\n",
    "    plt.plot(result_table.loc[i]['fpr'], \n",
    "             result_table.loc[i]['tpr'], \n",
    "             label=\"{}, AUC={:.3f}\".format(i, result_table.loc[i]['auc']))\n",
    "    \n",
    "plt.plot([0,1], [0,1], color='orange', linestyle='--')\n",
    "\n",
    "plt.xticks(np.arange(0.0, 1.1, step=0.1))\n",
    "plt.xlabel(\"False Positive Rate\", fontsize=15)\n",
    "\n",
    "plt.yticks(np.arange(0.0, 1.1, step=0.1))\n",
    "plt.ylabel(\"True Positive Rate\", fontsize=15)\n",
    "\n",
    "plt.title('ROC Curve Analysis', fontweight='bold', fontsize=15)\n",
    "plt.legend(prop={'size':13}, loc='lower right')\n",
    "\n",
    "plt.show()"
   ]
  },
  {
   "cell_type": "code",
   "execution_count": 270,
   "id": "fa0bNeg9iDhQ",
   "metadata": {
    "colab": {
     "base_uri": "https://localhost:8080/",
     "height": 111
    },
    "id": "fa0bNeg9iDhQ",
    "outputId": "0082ae50-d9e4-44c4-c631-220e4d3f0f54"
   },
   "outputs": [
    {
     "data": {
      "text/html": [
       "\n",
       "  <div id=\"df-5ed3641d-cb22-4377-8663-09931f9e711e\">\n",
       "    <div class=\"colab-df-container\">\n",
       "      <div>\n",
       "<style scoped>\n",
       "    .dataframe tbody tr th:only-of-type {\n",
       "        vertical-align: middle;\n",
       "    }\n",
       "\n",
       "    .dataframe tbody tr th {\n",
       "        vertical-align: top;\n",
       "    }\n",
       "\n",
       "    .dataframe thead th {\n",
       "        text-align: right;\n",
       "    }\n",
       "</style>\n",
       "<table border=\"1\" class=\"dataframe\">\n",
       "  <thead>\n",
       "    <tr style=\"text-align: right;\">\n",
       "      <th></th>\n",
       "      <th>Predicted 1</th>\n",
       "      <th>Predicted 0</th>\n",
       "    </tr>\n",
       "  </thead>\n",
       "  <tbody>\n",
       "    <tr>\n",
       "      <th>actual 1</th>\n",
       "      <td>9346</td>\n",
       "      <td>1899</td>\n",
       "    </tr>\n",
       "    <tr>\n",
       "      <th>actual 0</th>\n",
       "      <td>1159</td>\n",
       "      <td>10086</td>\n",
       "    </tr>\n",
       "  </tbody>\n",
       "</table>\n",
       "</div>\n",
       "      <button class=\"colab-df-convert\" onclick=\"convertToInteractive('df-5ed3641d-cb22-4377-8663-09931f9e711e')\"\n",
       "              title=\"Convert this dataframe to an interactive table.\"\n",
       "              style=\"display:none;\">\n",
       "        \n",
       "  <svg xmlns=\"http://www.w3.org/2000/svg\" height=\"24px\"viewBox=\"0 0 24 24\"\n",
       "       width=\"24px\">\n",
       "    <path d=\"M0 0h24v24H0V0z\" fill=\"none\"/>\n",
       "    <path d=\"M18.56 5.44l.94 2.06.94-2.06 2.06-.94-2.06-.94-.94-2.06-.94 2.06-2.06.94zm-11 1L8.5 8.5l.94-2.06 2.06-.94-2.06-.94L8.5 2.5l-.94 2.06-2.06.94zm10 10l.94 2.06.94-2.06 2.06-.94-2.06-.94-.94-2.06-.94 2.06-2.06.94z\"/><path d=\"M17.41 7.96l-1.37-1.37c-.4-.4-.92-.59-1.43-.59-.52 0-1.04.2-1.43.59L10.3 9.45l-7.72 7.72c-.78.78-.78 2.05 0 2.83L4 21.41c.39.39.9.59 1.41.59.51 0 1.02-.2 1.41-.59l7.78-7.78 2.81-2.81c.8-.78.8-2.07 0-2.86zM5.41 20L4 18.59l7.72-7.72 1.47 1.35L5.41 20z\"/>\n",
       "  </svg>\n",
       "      </button>\n",
       "      \n",
       "  <style>\n",
       "    .colab-df-container {\n",
       "      display:flex;\n",
       "      flex-wrap:wrap;\n",
       "      gap: 12px;\n",
       "    }\n",
       "\n",
       "    .colab-df-convert {\n",
       "      background-color: #E8F0FE;\n",
       "      border: none;\n",
       "      border-radius: 50%;\n",
       "      cursor: pointer;\n",
       "      display: none;\n",
       "      fill: #1967D2;\n",
       "      height: 32px;\n",
       "      padding: 0 0 0 0;\n",
       "      width: 32px;\n",
       "    }\n",
       "\n",
       "    .colab-df-convert:hover {\n",
       "      background-color: #E2EBFA;\n",
       "      box-shadow: 0px 1px 2px rgba(60, 64, 67, 0.3), 0px 1px 3px 1px rgba(60, 64, 67, 0.15);\n",
       "      fill: #174EA6;\n",
       "    }\n",
       "\n",
       "    [theme=dark] .colab-df-convert {\n",
       "      background-color: #3B4455;\n",
       "      fill: #D2E3FC;\n",
       "    }\n",
       "\n",
       "    [theme=dark] .colab-df-convert:hover {\n",
       "      background-color: #434B5C;\n",
       "      box-shadow: 0px 1px 3px 1px rgba(0, 0, 0, 0.15);\n",
       "      filter: drop-shadow(0px 1px 2px rgba(0, 0, 0, 0.3));\n",
       "      fill: #FFFFFF;\n",
       "    }\n",
       "  </style>\n",
       "\n",
       "      <script>\n",
       "        const buttonEl =\n",
       "          document.querySelector('#df-5ed3641d-cb22-4377-8663-09931f9e711e button.colab-df-convert');\n",
       "        buttonEl.style.display =\n",
       "          google.colab.kernel.accessAllowed ? 'block' : 'none';\n",
       "\n",
       "        async function convertToInteractive(key) {\n",
       "          const element = document.querySelector('#df-5ed3641d-cb22-4377-8663-09931f9e711e');\n",
       "          const dataTable =\n",
       "            await google.colab.kernel.invokeFunction('convertToInteractive',\n",
       "                                                     [key], {});\n",
       "          if (!dataTable) return;\n",
       "\n",
       "          const docLinkHtml = 'Like what you see? Visit the ' +\n",
       "            '<a target=\"_blank\" href=https://colab.research.google.com/notebooks/data_table.ipynb>data table notebook</a>'\n",
       "            + ' to learn more about interactive tables.';\n",
       "          element.innerHTML = '';\n",
       "          dataTable['output_type'] = 'display_data';\n",
       "          await google.colab.output.renderOutput(dataTable, element);\n",
       "          const docLink = document.createElement('div');\n",
       "          docLink.innerHTML = docLinkHtml;\n",
       "          element.appendChild(docLink);\n",
       "        }\n",
       "      </script>\n",
       "    </div>\n",
       "  </div>\n",
       "  "
      ],
      "text/plain": [
       "          Predicted 1  Predicted 0\n",
       "actual 1         9346         1899\n",
       "actual 0         1159        10086"
      ]
     },
     "execution_count": 270,
     "metadata": {},
     "output_type": "execute_result"
    }
   ],
   "source": [
    "from sklearn.metrics import f1_score, accuracy_score, recall_score, confusion_matrix,classification_report, precision_score, roc_auc_score\n",
    "\n",
    "y_predicted=stack_model.predict(X_test)\n",
    "cm_stacked_model = confusion_matrix(y_test, y_predicted, labels = [1,0])\n",
    "df_stacked_model = pd.DataFrame(data = cm_stacked_model, index = ['actual 1', 'actual 0'], columns = ['Predicted 1', 'Predicted 0'])\n",
    "df_stacked_model"
   ]
  },
  {
   "cell_type": "code",
   "execution_count": 271,
   "id": "CaGWZ-q6iwnN",
   "metadata": {
    "colab": {
     "base_uri": "https://localhost:8080/",
     "height": 341
    },
    "id": "CaGWZ-q6iwnN",
    "outputId": "ed3872f8-34ca-4166-cf64-e98f9f7a078b"
   },
   "outputs": [
    {
     "data": {
      "text/plain": [
       "<matplotlib.axes._subplots.AxesSubplot at 0x7f119fa662d0>"
      ]
     },
     "execution_count": 271,
     "metadata": {},
     "output_type": "execute_result"
    },
    {
     "data": {
      "image/png": "[encoded data removed]",
      "text/plain": [
       "<Figure size 504x360 with 2 Axes>"
      ]
     },
     "metadata": {},
     "output_type": "display_data"
    }
   ],
   "source": [
    "import seaborn as sns\n",
    "\n",
    "plt.figure(figsize = (7, 5))\n",
    "sns.heatmap(df_stacked_model, annot = True,fmt='g')"
   ]
  },
  {
   "cell_type": "markdown",
   "id": "abvS7m-QVkPj",
   "metadata": {
    "id": "abvS7m-QVkPj"
   },
   "source": [
    "### Test the model for few properties\n"
   ]
  },
  {
   "cell_type": "code",
   "execution_count": 22,
   "id": "JKt88HNjB7m6",
   "metadata": {
    "colab": {
     "base_uri": "https://localhost:8080/"
    },
    "id": "JKt88HNjB7m6",
    "outputId": "0a80573a-afa3-4f0c-af5b-f91b9f922312"
   },
   "outputs": [
    {
     "name": "stdout",
     "output_type": "stream",
     "text": [
      "<class 'pandas.core.frame.DataFrame'>\n",
      "RangeIndex: 74846 entries, 0 to 74845\n",
      "Data columns (total 50 columns):\n",
      " #   Column                          Non-Null Count  Dtype  \n",
      "---  ------                          --------------  -----  \n",
      " 0   lead_time                       74846 non-null  int64  \n",
      " 1   arrival_date_day_of_month       74846 non-null  int64  \n",
      " 2   previous_cancellations          74846 non-null  int64  \n",
      " 3   booking_changes                 74846 non-null  int64  \n",
      " 4   adr                             74846 non-null  float64\n",
      " 5   required_car_parking_spaces     74846 non-null  int64  \n",
      " 6   total_of_special_requests       74846 non-null  int64  \n",
      " 7   total_stays                     74846 non-null  int64  \n",
      " 8   guests                          74846 non-null  float64\n",
      " 9   arrival_date_month_April        74846 non-null  int64  \n",
      " 10  arrival_date_month_August       74846 non-null  int64  \n",
      " 11  arrival_date_month_December     74846 non-null  int64  \n",
      " 12  arrival_date_month_February     74846 non-null  int64  \n",
      " 13  arrival_date_month_January      74846 non-null  int64  \n",
      " 14  arrival_date_month_July         74846 non-null  int64  \n",
      " 15  arrival_date_month_June         74846 non-null  int64  \n",
      " 16  arrival_date_month_March        74846 non-null  int64  \n",
      " 17  arrival_date_month_May          74846 non-null  int64  \n",
      " 18  arrival_date_month_November     74846 non-null  int64  \n",
      " 19  arrival_date_month_October      74846 non-null  int64  \n",
      " 20  arrival_date_month_September    74846 non-null  int64  \n",
      " 21  market_segment_Aviation         74846 non-null  int64  \n",
      " 22  market_segment_Complementary    74846 non-null  int64  \n",
      " 23  market_segment_Corporate        74846 non-null  int64  \n",
      " 24  market_segment_Direct           74846 non-null  int64  \n",
      " 25  market_segment_Groups           74846 non-null  int64  \n",
      " 26  market_segment_Offline TA/TO    74846 non-null  int64  \n",
      " 27  market_segment_Online TA        74846 non-null  int64  \n",
      " 28  market_segment_Undefined        74846 non-null  int64  \n",
      " 29  distribution_channel_Corporate  74846 non-null  int64  \n",
      " 30  distribution_channel_Direct     74846 non-null  int64  \n",
      " 31  distribution_channel_GDS        74846 non-null  int64  \n",
      " 32  distribution_channel_TA/TO      74846 non-null  int64  \n",
      " 33  distribution_channel_Undefined  74846 non-null  int64  \n",
      " 34  reserved_room_type_A            74846 non-null  int64  \n",
      " 35  reserved_room_type_B            74846 non-null  int64  \n",
      " 36  reserved_room_type_C            74846 non-null  int64  \n",
      " 37  reserved_room_type_D            74846 non-null  int64  \n",
      " 38  reserved_room_type_E            74846 non-null  int64  \n",
      " 39  reserved_room_type_F            74846 non-null  int64  \n",
      " 40  reserved_room_type_G            74846 non-null  int64  \n",
      " 41  reserved_room_type_H            74846 non-null  int64  \n",
      " 42  reserved_room_type_L            74846 non-null  int64  \n",
      " 43  deposit_type_No Deposit         74846 non-null  int64  \n",
      " 44  deposit_type_Non Refund         74846 non-null  int64  \n",
      " 45  deposit_type_Refundable         74846 non-null  int64  \n",
      " 46  customer_type_Contract          74846 non-null  int64  \n",
      " 47  customer_type_Group             74846 non-null  int64  \n",
      " 48  customer_type_Transient         74846 non-null  int64  \n",
      " 49  customer_type_Transient-Party   74846 non-null  int64  \n",
      "dtypes: float64(2), int64(48)\n",
      "memory usage: 28.6 MB\n"
     ]
    }
   ],
   "source": [
    "X.info()"
   ]
  },
  {
   "cell_type": "code",
   "execution_count": 23,
   "id": "zlH_wYL5Gg27",
   "metadata": {
    "colab": {
     "base_uri": "https://localhost:8080/"
    },
    "id": "zlH_wYL5Gg27",
    "outputId": "783253af-da9b-4b55-ce35-f27149a89bba"
   },
   "outputs": [
    {
     "data": {
      "text/plain": [
       "StackingClassifier(cv=5,\n",
       "                   estimators=[('rf_model',\n",
       "                                RandomForestClassifier(max_depth=15,\n",
       "                                                       n_estimators=200)),\n",
       "                               ('lgr_model',\n",
       "                                LogisticRegression(C=1, max_iter=4000,\n",
       "                                                   solver='newton-cg'))],\n",
       "                   final_estimator=LogisticRegression())"
      ]
     },
     "execution_count": 23,
     "metadata": {},
     "output_type": "execute_result"
    }
   ],
   "source": [
    "stack_model.fit(X_train.values, y_train.values)\n"
   ]
  },
  {
   "cell_type": "code",
   "execution_count": 24,
   "id": "IwfNahfrVj6L",
   "metadata": {
    "id": "IwfNahfrVj6L"
   },
   "outputs": [],
   "source": [
    "def predict_cancellation(reserved_room_type,guests, distribution_channel, arrival_date_month,arrival_date_day_of_month,total_stays,booking_changes,required_car_parking_spaces,customer_type,adr,previous_cancellations,market_segment,total_of_special_requests,lead_time,deposit_type):    \n",
    "    reserved_room_type_index = np.where(X.columns=='reserved_room_type_'+reserved_room_type)[0][0]\n",
    "    customer_type_index = np.where(X.columns=='customer_type_'+customer_type)[0][0]\n",
    "    market_segment_index = np.where(X.columns=='market_segment_'+market_segment)[0][0]\n",
    "    deposit_type_index = np.where(X.columns=='deposit_type_'+deposit_type)[0][0]\n",
    "    arrival_date_month_index = np.where(X.columns=='arrival_date_month_'+arrival_date_month)[0][0]\n",
    "    distribution_channel_index = np.where(X.columns=='distribution_channel_'+distribution_channel)[0][0]\n",
    "\n",
    "\n",
    "    x = np.zeros(len(X.columns))\n",
    "    x[8] = guests\n",
    "    x[1] = arrival_date_day_of_month\n",
    "    x[7] = total_stays\n",
    "    x[3] = booking_changes\n",
    "    x[5] = required_car_parking_spaces\n",
    "    x[2] = previous_cancellations\n",
    "    x[6] = total_of_special_requests\n",
    "    x[4] = adr\n",
    "    x[0] = lead_time\n",
    "\n",
    "  \n",
    "\n",
    "    if reserved_room_type_index >= 0:\n",
    "        x[reserved_room_type_index] = 1\n",
    "\n",
    "    if customer_type_index >= 0:\n",
    "        x[customer_type_index] = 1\n",
    "\n",
    "    if market_segment_index >= 0:\n",
    "        x[market_segment_index] = 1\n",
    "\n",
    "    if deposit_type_index >= 0:\n",
    "        x[deposit_type_index] = 1\n",
    "    \n",
    "    if arrival_date_month_index >= 0:\n",
    "        x[arrival_date_month_index] = 1\n",
    "    \n",
    "    if distribution_channel_index >= 0:\n",
    "        x[distribution_channel_index] = 1\n",
    "\n",
    "    return stack_model.predict([x])[0]\n",
    "\n",
    "\n",
    "\n",
    "\n"
   ]
  },
  {
   "cell_type": "code",
   "execution_count": 25,
   "id": "7OxdCA_Ed9UF",
   "metadata": {
    "colab": {
     "base_uri": "https://localhost:8080/"
    },
    "id": "7OxdCA_Ed9UF",
    "outputId": "cc72b1ef-c3da-4c25-808f-7837f419ddfd"
   },
   "outputs": [
    {
     "data": {
      "text/plain": [
       "0"
      ]
     },
     "execution_count": 25,
     "metadata": {},
     "output_type": "execute_result"
    }
   ],
   "source": [
    "predict_cancellation('C',3,'Direct','July',1,2,0,0,'Transient',0,0,'Direct',1,23,'No Deposit')"
   ]
  },
  {
   "cell_type": "markdown",
   "id": "c8PwYTH4hG7N",
   "metadata": {
    "id": "c8PwYTH4hG7N"
   },
   "source": [
    "### Export the tested model to a pickle file\n"
   ]
  },
  {
   "cell_type": "code",
   "execution_count": 28,
   "id": "v7mR2Uphd9Hc",
   "metadata": {
    "id": "v7mR2Uphd9Hc"
   },
   "outputs": [],
   "source": [
    "import pickle\n",
    "with open('hotel_booking_cancellation.pickle','wb') as f:\n",
    "    pickle.dump(stack_model,f)"
   ]
  },
  {
   "cell_type": "code",
   "execution_count": 287,
   "id": "Eb-s-6yaoS5j",
   "metadata": {
    "id": "Eb-s-6yaoS5j"
   },
   "outputs": [],
   "source": [
    "import json\n",
    "columns = {\n",
    "    'data_columns' : [col.lower() for col in X.columns]\n",
    "}\n",
    "\n",
    "with open(\"columns.json\",\"w\") as f:\n",
    "    f.write(json.dumps(columns))"
   ]
  }
 ],
 "metadata": {
  "colab": {
   "collapsed_sections": [],
   "name": "Copy of Untitled.ipynb",
   "provenance": []
  },
  "kernelspec": {
   "display_name": "Python 3 (ipykernel)",
   "language": "python",
   "name": "python3"
  },
  "language_info": {
   "codemirror_mode": {
    "name": "ipython",
    "version": 3
   },
   "file_extension": ".py",
   "mimetype": "text/x-python",
   "name": "python",
   "nbconvert_exporter": "python",
   "pygments_lexer": "ipython3",
   "version": "3.9.7"
  }
 },
 "nbformat": 4,
 "nbformat_minor": 5
}
